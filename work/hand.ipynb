{
 "cells": [
  {
   "cell_type": "code",
   "execution_count": 193,
   "id": "53a27f71-099c-4120-9773-b1f26fc44218",
   "metadata": {},
   "outputs": [],
   "source": [
    "import pandas as pd\n",
    "import numpy as np\n",
    "import matplotlib.pyplot as plt\n",
    "from scipy.stats import norm"
   ]
  },
  {
   "cell_type": "code",
   "execution_count": 194,
   "id": "d5a9091a-f30b-488f-8a29-79ff17211087",
   "metadata": {},
   "outputs": [],
   "source": [
    "np.random.seed(42)"
   ]
  },
  {
   "cell_type": "code",
   "execution_count": 229,
   "id": "112dcca5-a1f4-442e-82f6-75535b9745aa",
   "metadata": {},
   "outputs": [],
   "source": [
    "df = pd.read_csv('hand.csv')"
   ]
  },
  {
   "cell_type": "code",
   "execution_count": 196,
   "id": "d29abf2d-ee0a-419b-a4b4-903d6b4c14c3",
   "metadata": {},
   "outputs": [
    {
     "data": {
      "text/html": [
       "<div>\n",
       "<style scoped>\n",
       "    .dataframe tbody tr th:only-of-type {\n",
       "        vertical-align: middle;\n",
       "    }\n",
       "\n",
       "    .dataframe tbody tr th {\n",
       "        vertical-align: top;\n",
       "    }\n",
       "\n",
       "    .dataframe thead th {\n",
       "        text-align: right;\n",
       "    }\n",
       "</style>\n",
       "<table border=\"1\" class=\"dataframe\">\n",
       "  <thead>\n",
       "    <tr style=\"text-align: right;\">\n",
       "      <th></th>\n",
       "      <th>group</th>\n",
       "      <th>sex</th>\n",
       "      <th>right_b</th>\n",
       "      <th>right_a</th>\n",
       "      <th>left_b</th>\n",
       "      <th>left_a</th>\n",
       "    </tr>\n",
       "  </thead>\n",
       "  <tbody>\n",
       "    <tr>\n",
       "      <th>0</th>\n",
       "      <td>ТПП-20</td>\n",
       "      <td>д</td>\n",
       "      <td>29.5</td>\n",
       "      <td>31.5</td>\n",
       "      <td>28.5</td>\n",
       "      <td>30.5</td>\n",
       "    </tr>\n",
       "    <tr>\n",
       "      <th>1</th>\n",
       "      <td>ТПП-21</td>\n",
       "      <td>д</td>\n",
       "      <td>35.5</td>\n",
       "      <td>31.5</td>\n",
       "      <td>23.5</td>\n",
       "      <td>29.5</td>\n",
       "    </tr>\n",
       "    <tr>\n",
       "      <th>2</th>\n",
       "      <td>ТПП-22</td>\n",
       "      <td>д</td>\n",
       "      <td>32.5</td>\n",
       "      <td>32.5</td>\n",
       "      <td>33.5</td>\n",
       "      <td>33.5</td>\n",
       "    </tr>\n",
       "    <tr>\n",
       "      <th>3</th>\n",
       "      <td>ТПП-23</td>\n",
       "      <td>д</td>\n",
       "      <td>28.5</td>\n",
       "      <td>29.5</td>\n",
       "      <td>27.5</td>\n",
       "      <td>27.0</td>\n",
       "    </tr>\n",
       "    <tr>\n",
       "      <th>4</th>\n",
       "      <td>ТПП-24</td>\n",
       "      <td>д</td>\n",
       "      <td>23.5</td>\n",
       "      <td>23.5</td>\n",
       "      <td>21.0</td>\n",
       "      <td>21.0</td>\n",
       "    </tr>\n",
       "  </tbody>\n",
       "</table>\n",
       "</div>"
      ],
      "text/plain": [
       "    group sex  right_b  right_a  left_b  left_a\n",
       "0  ТПП-20   д     29.5     31.5    28.5    30.5\n",
       "1  ТПП-21   д     35.5     31.5    23.5    29.5\n",
       "2  ТПП-22   д     32.5     32.5    33.5    33.5\n",
       "3  ТПП-23   д     28.5     29.5    27.5    27.0\n",
       "4  ТПП-24   д     23.5     23.5    21.0    21.0"
      ]
     },
     "execution_count": 196,
     "metadata": {},
     "output_type": "execute_result"
    }
   ],
   "source": [
    "df.head()"
   ]
  },
  {
   "cell_type": "code",
   "execution_count": 197,
   "id": "e8d3e88a-ffce-4b5a-8c03-2b59512677d1",
   "metadata": {},
   "outputs": [
    {
     "data": {
      "text/html": [
       "<div>\n",
       "<style scoped>\n",
       "    .dataframe tbody tr th:only-of-type {\n",
       "        vertical-align: middle;\n",
       "    }\n",
       "\n",
       "    .dataframe tbody tr th {\n",
       "        vertical-align: top;\n",
       "    }\n",
       "\n",
       "    .dataframe thead th {\n",
       "        text-align: right;\n",
       "    }\n",
       "</style>\n",
       "<table border=\"1\" class=\"dataframe\">\n",
       "  <thead>\n",
       "    <tr style=\"text-align: right;\">\n",
       "      <th></th>\n",
       "      <th>right_b</th>\n",
       "      <th>right_a</th>\n",
       "      <th>left_b</th>\n",
       "      <th>left_a</th>\n",
       "    </tr>\n",
       "  </thead>\n",
       "  <tbody>\n",
       "    <tr>\n",
       "      <th>count</th>\n",
       "      <td>113.000000</td>\n",
       "      <td>72.000000</td>\n",
       "      <td>113.000000</td>\n",
       "      <td>72.000000</td>\n",
       "    </tr>\n",
       "    <tr>\n",
       "      <th>mean</th>\n",
       "      <td>32.000000</td>\n",
       "      <td>34.770833</td>\n",
       "      <td>29.930088</td>\n",
       "      <td>32.463889</td>\n",
       "    </tr>\n",
       "    <tr>\n",
       "      <th>std</th>\n",
       "      <td>12.711251</td>\n",
       "      <td>13.494636</td>\n",
       "      <td>12.066726</td>\n",
       "      <td>12.982765</td>\n",
       "    </tr>\n",
       "    <tr>\n",
       "      <th>min</th>\n",
       "      <td>12.500000</td>\n",
       "      <td>10.000000</td>\n",
       "      <td>11.000000</td>\n",
       "      <td>9.000000</td>\n",
       "    </tr>\n",
       "    <tr>\n",
       "      <th>25%</th>\n",
       "      <td>23.000000</td>\n",
       "      <td>24.000000</td>\n",
       "      <td>21.000000</td>\n",
       "      <td>22.000000</td>\n",
       "    </tr>\n",
       "    <tr>\n",
       "      <th>50%</th>\n",
       "      <td>28.500000</td>\n",
       "      <td>31.500000</td>\n",
       "      <td>26.000000</td>\n",
       "      <td>29.750000</td>\n",
       "    </tr>\n",
       "    <tr>\n",
       "      <th>75%</th>\n",
       "      <td>38.500000</td>\n",
       "      <td>43.875000</td>\n",
       "      <td>38.500000</td>\n",
       "      <td>41.125000</td>\n",
       "    </tr>\n",
       "    <tr>\n",
       "      <th>max</th>\n",
       "      <td>76.000000</td>\n",
       "      <td>76.000000</td>\n",
       "      <td>70.000000</td>\n",
       "      <td>70.000000</td>\n",
       "    </tr>\n",
       "  </tbody>\n",
       "</table>\n",
       "</div>"
      ],
      "text/plain": [
       "          right_b    right_a      left_b     left_a\n",
       "count  113.000000  72.000000  113.000000  72.000000\n",
       "mean    32.000000  34.770833   29.930088  32.463889\n",
       "std     12.711251  13.494636   12.066726  12.982765\n",
       "min     12.500000  10.000000   11.000000   9.000000\n",
       "25%     23.000000  24.000000   21.000000  22.000000\n",
       "50%     28.500000  31.500000   26.000000  29.750000\n",
       "75%     38.500000  43.875000   38.500000  41.125000\n",
       "max     76.000000  76.000000   70.000000  70.000000"
      ]
     },
     "execution_count": 197,
     "metadata": {},
     "output_type": "execute_result"
    }
   ],
   "source": [
    "df.describe()"
   ]
  },
  {
   "cell_type": "code",
   "execution_count": 198,
   "id": "bf542b73-acd8-476c-9f78-f6903cb71711",
   "metadata": {},
   "outputs": [
    {
     "data": {
      "image/png": "[encoded data removed]",
      "text/plain": [
       "<Figure size 432x288 with 1 Axes>"
      ]
     },
     "metadata": {
      "needs_background": "light"
     },
     "output_type": "display_data"
    }
   ],
   "source": [
    "df.plot.box(title=\"Разброс по всем\");"
   ]
  },
  {
   "cell_type": "code",
   "execution_count": 199,
   "id": "cebc0e87-94d0-4cd6-ad39-f1876ee6ac96",
   "metadata": {},
   "outputs": [],
   "source": [
    "df_g = df[df[\"sex\"]==\"д\"]\n",
    "df_b = df[df[\"sex\"]==\"м\"]\n",
    "\n",
    "df_grb = df_g[\"right_b\"].dropna() # девочки правая до\n",
    "df_gra = df_g[\"right_a\"].dropna() # девочки правая после\n",
    "df_glb = df_g[\"left_b\"].dropna()  # девочки левая до\n",
    "df_gla = df_g[\"left_a\"].dropna()  # девочки левая после\n",
    "\n",
    "df_brb = df_b[\"right_b\"].dropna() # мальчики правая до\n",
    "df_bra = df_b[\"right_a\"].dropna() # мальчики правая после\n",
    "df_blb = df_b[\"left_b\"].dropna()  # мальчики левая до\n",
    "df_bla = df_b[\"left_a\"].dropna()  # мальчики левая после"
   ]
  },
  {
   "cell_type": "code",
   "execution_count": 200,
   "id": "1ed611a7-e9c0-4c0d-bd9a-2602b3f27e96",
   "metadata": {},
   "outputs": [
    {
     "name": "stdout",
     "output_type": "stream",
     "text": [
      "count    68.000000\n",
      "mean     24.250000\n",
      "std       5.785017\n",
      "min      12.500000\n",
      "25%      20.500000\n",
      "50%      24.000000\n",
      "75%      28.500000\n",
      "max      36.000000\n",
      "Name: right_b, dtype: float64\n",
      "count    37.000000\n",
      "mean     24.648649\n",
      "std       5.729874\n",
      "min      10.000000\n",
      "25%      21.000000\n",
      "50%      25.000000\n",
      "75%      28.000000\n",
      "max      36.000000\n",
      "Name: right_a, dtype: float64\n",
      "count    68.000000\n",
      "mean     22.397059\n",
      "std       5.042771\n",
      "min      11.000000\n",
      "25%      19.375000\n",
      "50%      21.750000\n",
      "75%      25.625000\n",
      "max      34.500000\n",
      "Name: left_b, dtype: float64\n",
      "count    37.000000\n",
      "mean     23.013514\n",
      "std       5.535851\n",
      "min       9.000000\n",
      "25%      20.000000\n",
      "50%      23.000000\n",
      "75%      27.000000\n",
      "max      33.500000\n",
      "Name: left_a, dtype: float64\n",
      "count    45.000000\n",
      "mean     43.711111\n",
      "std      11.279753\n",
      "min      25.500000\n",
      "25%      35.500000\n",
      "50%      44.500000\n",
      "75%      51.500000\n",
      "max      76.000000\n",
      "Name: right_b, dtype: float64\n",
      "count    35.000000\n",
      "mean     45.471429\n",
      "std      10.777115\n",
      "min      22.000000\n",
      "25%      39.500000\n",
      "50%      45.000000\n",
      "75%      53.000000\n",
      "max      76.000000\n",
      "Name: right_a, dtype: float64\n",
      "count    45.000000\n",
      "mean     41.313333\n",
      "std      10.568276\n",
      "min      21.500000\n",
      "25%      35.000000\n",
      "50%      41.000000\n",
      "75%      47.500000\n",
      "max      70.000000\n",
      "Name: left_b, dtype: float64\n",
      "count    35.000000\n",
      "mean     42.454286\n",
      "std      10.935946\n",
      "min      20.500000\n",
      "25%      37.500000\n",
      "50%      41.500000\n",
      "75%      50.250000\n",
      "max      70.000000\n",
      "Name: left_a, dtype: float64\n"
     ]
    }
   ],
   "source": [
    "for ds in [\n",
    "    df_grb,\n",
    "    df_gra,\n",
    "    df_glb,\n",
    "    df_gla,\n",
    "\n",
    "    df_brb,\n",
    "    df_bra,\n",
    "    df_blb,\n",
    "    df_bla,\n",
    "]:\n",
    "    print(ds.describe())"
   ]
  },
  {
   "cell_type": "code",
   "execution_count": 201,
   "id": "3bcc7e06-c51e-4a73-9315-0ff926c54c88",
   "metadata": {},
   "outputs": [
    {
     "data": {
      "image/png": "[encoded data removed]",
      "text/plain": [
       "<Figure size 432x288 with 1 Axes>"
      ]
     },
     "metadata": {
      "needs_background": "light"
     },
     "output_type": "display_data"
    }
   ],
   "source": [
    "fig, ax = plt.subplots()\n",
    "ax.set_title(\"Разброс по полам\")\n",
    "ax.boxplot([\n",
    "    df_grb,\n",
    "    df_gra,\n",
    "    df_glb,\n",
    "    df_gla,\n",
    "\n",
    "    df_brb,\n",
    "    df_bra,\n",
    "    df_blb,\n",
    "    df_bla,\n",
    "],\n",
    "    labels=[\"grb\", \"gra\", \"glb\", \"gla\", \"brb\", \"bra\", \"blb\", \"bla\"]\n",
    ")\n",
    "plt.show()"
   ]
  },
  {
   "cell_type": "code",
   "execution_count": 202,
   "id": "77eb7cd5-de04-42e6-a0df-0b844f2c8785",
   "metadata": {},
   "outputs": [
    {
     "data": {
      "image/png": "[encoded data removed]",
      "text/plain": [
       "<Figure size 432x288 with 1 Axes>"
      ]
     },
     "metadata": {
      "needs_background": "light"
     },
     "output_type": "display_data"
    }
   ],
   "source": [
    "fig, ax = plt.subplots()\n",
    "ax.set_title(\"Разброс по полам\")\n",
    "ax.hist([\n",
    "    df_grb,\n",
    "    df_gra,\n",
    "    df_glb,\n",
    "    df_gla,\n",
    "\n",
    "    df_brb,\n",
    "    df_bra,\n",
    "    df_blb,\n",
    "    df_bla,\n",
    "],label=[\"grb\", \"gra\", \"glb\", \"gla\", \"brb\", \"bra\", \"blb\", \"bla\"])\n",
    "ax.legend(prop={'size': 10})\n",
    "plt.show()"
   ]
  },
  {
   "cell_type": "code",
   "execution_count": 203,
   "id": "aa614106-f1b8-4b7b-a52c-0fe6e391057b",
   "metadata": {},
   "outputs": [
    {
     "data": {
      "image/png": "[encoded data removed]",
      "text/plain": [
       "<Figure size 432x288 with 1 Axes>"
      ]
     },
     "metadata": {
      "needs_background": "light"
     },
     "output_type": "display_data"
    }
   ],
   "source": [
    "fig, ax = plt.subplots()\n",
    "ax.set_title(\"Девочки\")\n",
    "ax.hist([\n",
    "    df_grb,\n",
    "    df_gra,\n",
    "    df_glb,\n",
    "    df_gla,\n",
    "],label=[\"grb\", \"gra\", \"glb\", \"gla\"])\n",
    "ax.legend(prop={'size': 10})\n",
    "plt.show()"
   ]
  },
  {
   "cell_type": "code",
   "execution_count": 204,
   "id": "46353030-6e04-484f-973d-90264afb48dd",
   "metadata": {},
   "outputs": [
    {
     "data": {
      "image/png": "[encoded data removed]",
      "text/plain": [
       "<Figure size 432x288 with 1 Axes>"
      ]
     },
     "metadata": {
      "needs_background": "light"
     },
     "output_type": "display_data"
    }
   ],
   "source": [
    "fig, ax = plt.subplots()\n",
    "ax.set_title(\"Мальчики\")\n",
    "ax.hist([\n",
    "    df_brb,\n",
    "    df_bra,\n",
    "    df_blb,\n",
    "    df_bla,\n",
    "],label=[\"brb\", \"bra\", \"blb\", \"bla\"])\n",
    "ax.legend(prop={'size': 10})\n",
    "plt.show()"
   ]
  },
  {
   "cell_type": "code",
   "execution_count": 205,
   "id": "9f42c520-7481-4a62-b8c0-bda1cd75048d",
   "metadata": {},
   "outputs": [
    {
     "data": {
      "image/png": "[encoded data removed]",
      "text/plain": [
       "<Figure size 432x288 with 1 Axes>"
      ]
     },
     "metadata": {
      "needs_background": "light"
     },
     "output_type": "display_data"
    }
   ],
   "source": [
    "fig, ax = plt.subplots()\n",
    "ax.set_title(\"правая рука до\")\n",
    "ax.hist([\n",
    "    df_grb,\n",
    "    df_brb,\n",
    "],label=[\"девочки\", \"мальчики\"])\n",
    "ax.legend(prop={'size': 10})\n",
    "plt.show()"
   ]
  },
  {
   "cell_type": "code",
   "execution_count": 206,
   "id": "39be154b-8ecb-4d83-9c17-30c84c2bbf09",
   "metadata": {},
   "outputs": [
    {
     "data": {
      "image/png": "[encoded data removed]",
      "text/plain": [
       "<Figure size 432x288 with 1 Axes>"
      ]
     },
     "metadata": {
      "needs_background": "light"
     },
     "output_type": "display_data"
    }
   ],
   "source": [
    "fig, ax = plt.subplots()\n",
    "ax.set_title(\"правая рука после\")\n",
    "ax.hist([\n",
    "    df_gra,\n",
    "    df_bra,\n",
    "],label=[\"девочки\", \"мальчики\"])\n",
    "ax.legend(prop={'size': 10})\n",
    "plt.show()"
   ]
  },
  {
   "cell_type": "code",
   "execution_count": 207,
   "id": "168a84ac-8baf-4437-b056-59089bf8e0ed",
   "metadata": {},
   "outputs": [
    {
     "data": {
      "image/png": "[encoded data removed]",
      "text/plain": [
       "<Figure size 432x288 with 1 Axes>"
      ]
     },
     "metadata": {
      "needs_background": "light"
     },
     "output_type": "display_data"
    }
   ],
   "source": [
    "fig, ax = plt.subplots()\n",
    "ax.set_title(\"левая рука до\")\n",
    "ax.hist([\n",
    "    df_glb,\n",
    "    df_blb,\n",
    "],label=[\"девочки\", \"мальчики\"])\n",
    "ax.legend(prop={'size': 10})\n",
    "plt.show()"
   ]
  },
  {
   "cell_type": "code",
   "execution_count": 208,
   "id": "1c522cce-6adf-4c0e-8431-724896c7514e",
   "metadata": {},
   "outputs": [
    {
     "data": {
      "image/png": "[encoded data removed]",
      "text/plain": [
       "<Figure size 432x288 with 1 Axes>"
      ]
     },
     "metadata": {
      "needs_background": "light"
     },
     "output_type": "display_data"
    }
   ],
   "source": [
    "fig, ax = plt.subplots()\n",
    "ax.set_title(\"левая рука после\")\n",
    "ax.hist([\n",
    "    df_gla,\n",
    "    df_bla,\n",
    "],label=[\"девочки\", \"мальчики\"])\n",
    "ax.legend(prop={'size': 10})\n",
    "plt.show()"
   ]
  },
  {
   "cell_type": "code",
   "execution_count": 209,
   "id": "802117a2-ea83-4e55-b694-f28aa8c7b408",
   "metadata": {},
   "outputs": [
    {
     "data": {
      "image/png": "[encoded data removed]",
      "text/plain": [
       "<Figure size 432x288 with 1 Axes>"
      ]
     },
     "metadata": {
      "needs_background": "light"
     },
     "output_type": "display_data"
    }
   ],
   "source": [
    "fig, ax = plt.subplots()\n",
    "ax.set_title(\"Мальчики правая рука\")\n",
    "ax.hist([\n",
    "    df_brb.sample(35),\n",
    "    df_bra,\n",
    "],label=[\"до\", \"после\"])\n",
    "ax.legend(prop={'size': 10})\n",
    "plt.show()"
   ]
  },
  {
   "cell_type": "code",
   "execution_count": 210,
   "id": "50aaf866-eebd-440c-8c4f-c3ac07d6d7b0",
   "metadata": {},
   "outputs": [
    {
     "data": {
      "image/png": "[encoded data removed]",
      "text/plain": [
       "<Figure size 432x288 with 1 Axes>"
      ]
     },
     "metadata": {
      "needs_background": "light"
     },
     "output_type": "display_data"
    }
   ],
   "source": [
    "fig, ax = plt.subplots()\n",
    "ax.set_title(\"Мальчики левая рука\")\n",
    "ax.hist([\n",
    "    df_blb.sample(35),\n",
    "    df_bla,\n",
    "],label=[\"до\", \"после\"])\n",
    "ax.legend(prop={'size': 10})\n",
    "plt.show()"
   ]
  },
  {
   "cell_type": "code",
   "execution_count": 211,
   "id": "4dad2c26-e478-43f5-8e5a-56a5ba46f85c",
   "metadata": {},
   "outputs": [
    {
     "data": {
      "image/png": "[encoded data removed]",
      "text/plain": [
       "<Figure size 432x288 with 1 Axes>"
      ]
     },
     "metadata": {
      "needs_background": "light"
     },
     "output_type": "display_data"
    }
   ],
   "source": [
    "fig, ax = plt.subplots()\n",
    "ax.set_title(\"Девочки правая рука\")\n",
    "ax.hist([\n",
    "    df_grb.sample(37),\n",
    "    df_gra,\n",
    "],label=[\"до\", \"после\"])\n",
    "ax.legend(prop={'size': 10})\n",
    "plt.show()"
   ]
  },
  {
   "cell_type": "code",
   "execution_count": 212,
   "id": "95cc17e5-bfc0-41b5-ab5b-a3ee1a1f81a8",
   "metadata": {},
   "outputs": [
    {
     "data": {
      "image/png": "[encoded data removed]",
      "text/plain": [
       "<Figure size 432x288 with 1 Axes>"
      ]
     },
     "metadata": {
      "needs_background": "light"
     },
     "output_type": "display_data"
    }
   ],
   "source": [
    "fig, ax = plt.subplots()\n",
    "ax.set_title(\"Девочки левая рука\")\n",
    "ax.hist([\n",
    "    df_glb.sample(37),\n",
    "    df_gla,\n",
    "],label=[\"до\", \"после\"])\n",
    "ax.legend(prop={'size': 10})\n",
    "plt.show()"
   ]
  },
  {
   "cell_type": "code",
   "execution_count": 213,
   "id": "4fd45eb0-f545-4348-89c6-a2451cba5b8f",
   "metadata": {},
   "outputs": [],
   "source": [
    "def draw_norm(df):\n",
    "    mu, sigma = norm.fit(df)\n",
    "    count, bins, ignored = plt.hist(df, density=False)\n",
    "    density = len(df)*np.diff(bins)[0]\n",
    "    plt.plot(bins,norm.pdf(bins, loc = mu, scale = sigma)*density)\n",
    "    plt.title(f\"Fit Values: {mu:.2f} and {sigma:.2f}\")\n",
    "    plt.show()"
   ]
  },
  {
   "cell_type": "code",
   "execution_count": 214,
   "id": "31a47e7c-01ff-4992-aa6a-4e9c9da6ea7c",
   "metadata": {},
   "outputs": [
    {
     "data": {
      "image/png": "[encoded data removed]",
      "text/plain": [
       "<Figure size 432x288 with 1 Axes>"
      ]
     },
     "metadata": {
      "needs_background": "light"
     },
     "output_type": "display_data"
    },
    {
     "data": {
      "image/png": "[encoded data removed]",
      "text/plain": [
       "<Figure size 432x288 with 1 Axes>"
      ]
     },
     "metadata": {
      "needs_background": "light"
     },
     "output_type": "display_data"
    },
    {
     "data": {
      "image/png": "[encoded data removed]",
      "text/plain": [
       "<Figure size 432x288 with 1 Axes>"
      ]
     },
     "metadata": {
      "needs_background": "light"
     },
     "output_type": "display_data"
    },
    {
     "data": {
      "image/png": "[encoded data removed]",
      "text/plain": [
       "<Figure size 432x288 with 1 Axes>"
      ]
     },
     "metadata": {
      "needs_background": "light"
     },
     "output_type": "display_data"
    },
    {
     "data": {
      "image/png": "[encoded data removed]",
      "text/plain": [
       "<Figure size 432x288 with 1 Axes>"
      ]
     },
     "metadata": {
      "needs_background": "light"
     },
     "output_type": "display_data"
    },
    {
     "data": {
      "image/png": "[encoded data removed]",
      "text/plain": [
       "<Figure size 432x288 with 1 Axes>"
      ]
     },
     "metadata": {
      "needs_background": "light"
     },
     "output_type": "display_data"
    },
    {
     "data": {
      "image/png": "[encoded data removed]",
      "text/plain": [
       "<Figure size 432x288 with 1 Axes>"
      ]
     },
     "metadata": {
      "needs_background": "light"
     },
     "output_type": "display_data"
    },
    {
     "data": {
      "image/png": "[encoded data removed]",
      "text/plain": [
       "<Figure size 432x288 with 1 Axes>"
      ]
     },
     "metadata": {
      "needs_background": "light"
     },
     "output_type": "display_data"
    }
   ],
   "source": [
    "for ds in (\n",
    "    df_grb,\n",
    "    df_gra,\n",
    "    df_glb,\n",
    "    df_gla,\n",
    "\n",
    "    df_brb,\n",
    "    df_bra,\n",
    "    df_blb,\n",
    "    df_bla,):\n",
    "    draw_norm(ds)"
   ]
  },
  {
   "cell_type": "code",
   "execution_count": 215,
   "id": "e4ee9ef2-49ce-4a37-a627-2a8821889027",
   "metadata": {},
   "outputs": [
    {
     "name": "stdout",
     "output_type": "stream",
     "text": [
      "0.05252926537456204 0.9870061140773716\n",
      "0.0879616782765113 0.9130419196267813\n",
      "0.0952107244735087 0.5369367552712585\n",
      "0.09603326459585715 0.8523661883706067\n",
      "0.08761113754245087 0.8503229759396584\n",
      "0.07507957881156446 0.9806274990760719\n",
      "0.0619225146095404 0.9910278956027987\n",
      "0.08256767718293878 0.9549075271105575\n"
     ]
    }
   ],
   "source": [
    "# Тест на нормальное распределение\n",
    "from scipy.stats import kstest, norm\n",
    "\n",
    "for ds in (\n",
    "    df_grb,\n",
    "    df_gra,\n",
    "    df_glb,\n",
    "    df_gla,\n",
    "\n",
    "    df_brb,\n",
    "    df_bra,\n",
    "    df_blb,\n",
    "    df_bla,):\n",
    "    mu, sigma = norm.fit(ds)\n",
    "    ks_statistic, p_value = kstest(ds.values, \"norm\", args=(mu, sigma))\n",
    "    print(ks_statistic, p_value)"
   ]
  },
  {
   "cell_type": "code",
   "execution_count": 216,
   "id": "7c380233-2033-4145-9e26-842377003f94",
   "metadata": {},
   "outputs": [
    {
     "name": "stdout",
     "output_type": "stream",
     "text": [
      "KstestResult(statistic=0.09976152623211447, pvalue=0.9446767394792371)\n",
      "KstestResult(statistic=0.12678855325914148, pvalue=0.7767579840854041)\n",
      "KstestResult(statistic=0.1492063492063492, pvalue=0.7125204776926608)\n",
      "KstestResult(statistic=0.09523809523809523, pvalue=0.9839940433054091)\n"
     ]
    }
   ],
   "source": [
    "# Сравнение руки до и после\n",
    "from scipy.stats import ks_2samp\n",
    "print(ks_2samp(df_grb, df_gra))\n",
    "print(ks_2samp(df_glb, df_gla))\n",
    "print(ks_2samp(df_brb, df_bra))\n",
    "print(ks_2samp(df_blb, df_bla))"
   ]
  },
  {
   "cell_type": "code",
   "execution_count": 217,
   "id": "a957de0d-36eb-4337-8fbc-1dd7cdbafba3",
   "metadata": {},
   "outputs": [
    {
     "name": "stdout",
     "output_type": "stream",
     "text": [
      "KstestResult(statistic=0.7562091503267974, pvalue=1.6653345369377348e-15)\n",
      "KstestResult(statistic=0.8372549019607843, pvalue=3.3306690738754696e-16)\n",
      "KstestResult(statistic=0.8586872586872587, pvalue=6.272760089132134e-14)\n",
      "KstestResult(statistic=0.8316602316602316, pvalue=6.260547635861258e-13)\n"
     ]
    }
   ],
   "source": [
    "#  Сравнение мальчиков и девочек\n",
    "from scipy.stats import ks_2samp\n",
    "print(ks_2samp(df_grb, df_brb))\n",
    "print(ks_2samp(df_glb, df_blb))\n",
    "print(ks_2samp(df_gra, df_bra))\n",
    "print(ks_2samp(df_gla, df_bla))"
   ]
  },
  {
   "cell_type": "code",
   "execution_count": 237,
   "id": "82580d22-6f12-4069-bc3c-7a9ad9d6f3a9",
   "metadata": {},
   "outputs": [
    {
     "data": {
      "text/html": [
       "<div>\n",
       "<style scoped>\n",
       "    .dataframe tbody tr th:only-of-type {\n",
       "        vertical-align: middle;\n",
       "    }\n",
       "\n",
       "    .dataframe tbody tr th {\n",
       "        vertical-align: top;\n",
       "    }\n",
       "\n",
       "    .dataframe thead th {\n",
       "        text-align: right;\n",
       "    }\n",
       "</style>\n",
       "<table border=\"1\" class=\"dataframe\">\n",
       "  <thead>\n",
       "    <tr style=\"text-align: right;\">\n",
       "      <th></th>\n",
       "      <th>right_b</th>\n",
       "      <th>right_a</th>\n",
       "      <th>left_b</th>\n",
       "      <th>left_a</th>\n",
       "    </tr>\n",
       "  </thead>\n",
       "  <tbody>\n",
       "    <tr>\n",
       "      <th>count</th>\n",
       "      <td>25.000000</td>\n",
       "      <td>14.000000</td>\n",
       "      <td>25.000000</td>\n",
       "      <td>14.000000</td>\n",
       "    </tr>\n",
       "    <tr>\n",
       "      <th>mean</th>\n",
       "      <td>25.100000</td>\n",
       "      <td>32.642857</td>\n",
       "      <td>28.800000</td>\n",
       "      <td>34.128571</td>\n",
       "    </tr>\n",
       "    <tr>\n",
       "      <th>std</th>\n",
       "      <td>9.376389</td>\n",
       "      <td>11.578210</td>\n",
       "      <td>10.326947</td>\n",
       "      <td>11.854920</td>\n",
       "    </tr>\n",
       "    <tr>\n",
       "      <th>min</th>\n",
       "      <td>12.500000</td>\n",
       "      <td>19.000000</td>\n",
       "      <td>14.500000</td>\n",
       "      <td>14.000000</td>\n",
       "    </tr>\n",
       "    <tr>\n",
       "      <th>25%</th>\n",
       "      <td>19.000000</td>\n",
       "      <td>24.125000</td>\n",
       "      <td>21.000000</td>\n",
       "      <td>26.250000</td>\n",
       "    </tr>\n",
       "    <tr>\n",
       "      <th>50%</th>\n",
       "      <td>23.000000</td>\n",
       "      <td>28.750000</td>\n",
       "      <td>27.000000</td>\n",
       "      <td>32.000000</td>\n",
       "    </tr>\n",
       "    <tr>\n",
       "      <th>75%</th>\n",
       "      <td>31.500000</td>\n",
       "      <td>40.625000</td>\n",
       "      <td>33.500000</td>\n",
       "      <td>40.000000</td>\n",
       "    </tr>\n",
       "    <tr>\n",
       "      <th>max</th>\n",
       "      <td>50.000000</td>\n",
       "      <td>53.500000</td>\n",
       "      <td>51.000000</td>\n",
       "      <td>55.000000</td>\n",
       "    </tr>\n",
       "  </tbody>\n",
       "</table>\n",
       "</div>"
      ],
      "text/plain": [
       "         right_b    right_a     left_b     left_a\n",
       "count  25.000000  14.000000  25.000000  14.000000\n",
       "mean   25.100000  32.642857  28.800000  34.128571\n",
       "std     9.376389  11.578210  10.326947  11.854920\n",
       "min    12.500000  19.000000  14.500000  14.000000\n",
       "25%    19.000000  24.125000  21.000000  26.250000\n",
       "50%    23.000000  28.750000  27.000000  32.000000\n",
       "75%    31.500000  40.625000  33.500000  40.000000\n",
       "max    50.000000  53.500000  51.000000  55.000000"
      ]
     },
     "execution_count": 237,
     "metadata": {},
     "output_type": "execute_result"
    }
   ],
   "source": [
    "# Левши\n",
    "left = df[df[\"right_b\"] < df[\"left_b\"]]\n",
    "left.describe()"
   ]
  },
  {
   "cell_type": "code",
   "execution_count": 238,
   "id": "3036ad9a-e267-429f-a279-5cd3be47fa5b",
   "metadata": {},
   "outputs": [],
   "source": [
    "df_g = left[left[\"sex\"]==\"д\"]\n",
    "df_b = left[left[\"sex\"]==\"м\"]\n",
    "\n",
    "df_grb = df_g[\"right_b\"].dropna() # девочки правая до\n",
    "df_gra = df_g[\"right_a\"].dropna() # девочки правая после\n",
    "df_glb = df_g[\"left_b\"].dropna()  # девочки левая до\n",
    "df_gla = df_g[\"left_a\"].dropna()  # девочки левая после\n",
    "\n",
    "df_brb = df_b[\"right_b\"].dropna() # мальчики правая до\n",
    "df_bra = df_b[\"right_a\"].dropna() # мальчики правая после\n",
    "df_blb = df_b[\"left_b\"].dropna()  # мальчики левая до\n",
    "df_bla = df_b[\"left_a\"].dropna()  # мальчики левая после"
   ]
  },
  {
   "cell_type": "code",
   "execution_count": 239,
   "id": "24ee7712-dd05-4b9f-93d1-ce097dcf5b18",
   "metadata": {},
   "outputs": [
    {
     "data": {
      "image/png": "[encoded data removed]",
      "text/plain": [
       "<Figure size 432x288 with 1 Axes>"
      ]
     },
     "metadata": {
      "needs_background": "light"
     },
     "output_type": "display_data"
    }
   ],
   "source": [
    "fig, ax = plt.subplots()\n",
    "ax.set_title(\"Разброс по полам левши\")\n",
    "ax.boxplot([\n",
    "    df_grb,\n",
    "    df_gra,\n",
    "    df_glb,\n",
    "    df_gla,\n",
    "\n",
    "    df_brb,\n",
    "    df_bra,\n",
    "    df_blb,\n",
    "    df_bla,\n",
    "],\n",
    "    labels=[\"grb\", \"gra\", \"glb\", \"gla\", \"brb\", \"bra\", \"blb\", \"bla\"]\n",
    ")\n",
    "plt.show()"
   ]
  },
  {
   "cell_type": "code",
   "execution_count": 240,
   "id": "19f61e43-5478-45ef-847b-5238c342cae2",
   "metadata": {},
   "outputs": [
    {
     "data": {
      "text/html": [
       "<div>\n",
       "<style scoped>\n",
       "    .dataframe tbody tr th:only-of-type {\n",
       "        vertical-align: middle;\n",
       "    }\n",
       "\n",
       "    .dataframe tbody tr th {\n",
       "        vertical-align: top;\n",
       "    }\n",
       "\n",
       "    .dataframe thead th {\n",
       "        text-align: right;\n",
       "    }\n",
       "</style>\n",
       "<table border=\"1\" class=\"dataframe\">\n",
       "  <thead>\n",
       "    <tr style=\"text-align: right;\">\n",
       "      <th></th>\n",
       "      <th>right_b</th>\n",
       "      <th>right_a</th>\n",
       "      <th>left_b</th>\n",
       "      <th>left_a</th>\n",
       "    </tr>\n",
       "  </thead>\n",
       "  <tbody>\n",
       "    <tr>\n",
       "      <th>count</th>\n",
       "      <td>80.000000</td>\n",
       "      <td>53.000000</td>\n",
       "      <td>80.000000</td>\n",
       "      <td>53.000000</td>\n",
       "    </tr>\n",
       "    <tr>\n",
       "      <th>mean</th>\n",
       "      <td>34.850000</td>\n",
       "      <td>36.386792</td>\n",
       "      <td>30.770000</td>\n",
       "      <td>32.709434</td>\n",
       "    </tr>\n",
       "    <tr>\n",
       "      <th>std</th>\n",
       "      <td>12.987677</td>\n",
       "      <td>13.739206</td>\n",
       "      <td>12.845099</td>\n",
       "      <td>13.397463</td>\n",
       "    </tr>\n",
       "    <tr>\n",
       "      <th>min</th>\n",
       "      <td>14.000000</td>\n",
       "      <td>12.000000</td>\n",
       "      <td>11.000000</td>\n",
       "      <td>9.000000</td>\n",
       "    </tr>\n",
       "    <tr>\n",
       "      <th>25%</th>\n",
       "      <td>25.000000</td>\n",
       "      <td>25.000000</td>\n",
       "      <td>21.000000</td>\n",
       "      <td>22.000000</td>\n",
       "    </tr>\n",
       "    <tr>\n",
       "      <th>50%</th>\n",
       "      <td>30.750000</td>\n",
       "      <td>32.500000</td>\n",
       "      <td>25.250000</td>\n",
       "      <td>29.500000</td>\n",
       "    </tr>\n",
       "    <tr>\n",
       "      <th>75%</th>\n",
       "      <td>46.500000</td>\n",
       "      <td>47.500000</td>\n",
       "      <td>40.000000</td>\n",
       "      <td>42.000000</td>\n",
       "    </tr>\n",
       "    <tr>\n",
       "      <th>max</th>\n",
       "      <td>76.000000</td>\n",
       "      <td>76.000000</td>\n",
       "      <td>70.000000</td>\n",
       "      <td>70.000000</td>\n",
       "    </tr>\n",
       "  </tbody>\n",
       "</table>\n",
       "</div>"
      ],
      "text/plain": [
       "         right_b    right_a     left_b     left_a\n",
       "count  80.000000  53.000000  80.000000  53.000000\n",
       "mean   34.850000  36.386792  30.770000  32.709434\n",
       "std    12.987677  13.739206  12.845099  13.397463\n",
       "min    14.000000  12.000000  11.000000   9.000000\n",
       "25%    25.000000  25.000000  21.000000  22.000000\n",
       "50%    30.750000  32.500000  25.250000  29.500000\n",
       "75%    46.500000  47.500000  40.000000  42.000000\n",
       "max    76.000000  76.000000  70.000000  70.000000"
      ]
     },
     "execution_count": 240,
     "metadata": {},
     "output_type": "execute_result"
    }
   ],
   "source": [
    "# Правши\n",
    "right = df[df[\"right_b\"] > df[\"left_b\"]]\n",
    "right.describe()"
   ]
  },
  {
   "cell_type": "code",
   "execution_count": 241,
   "id": "782a9669-b38e-4fab-8f1f-1695252cd51e",
   "metadata": {},
   "outputs": [],
   "source": [
    "df_g = right[right[\"sex\"]==\"д\"]\n",
    "df_b = right[right[\"sex\"]==\"м\"]\n",
    "\n",
    "df_grb = df_g[\"right_b\"].dropna() # девочки правая до\n",
    "df_gra = df_g[\"right_a\"].dropna() # девочки правая после\n",
    "df_glb = df_g[\"left_b\"].dropna()  # девочки левая до\n",
    "df_gla = df_g[\"left_a\"].dropna()  # девочки левая после\n",
    "\n",
    "df_brb = df_b[\"right_b\"].dropna() # мальчики правая до\n",
    "df_bra = df_b[\"right_a\"].dropna() # мальчики правая после\n",
    "df_blb = df_b[\"left_b\"].dropna()  # мальчики левая до\n",
    "df_bla = df_b[\"left_a\"].dropna()  # мальчики левая после"
   ]
  },
  {
   "cell_type": "code",
   "execution_count": 242,
   "id": "06bf826b-48b1-4e69-b66e-770395835445",
   "metadata": {},
   "outputs": [
    {
     "data": {
      "image/png": "[encoded data removed]",
      "text/plain": [
       "<Figure size 432x288 with 1 Axes>"
      ]
     },
     "metadata": {
      "needs_background": "light"
     },
     "output_type": "display_data"
    }
   ],
   "source": [
    "fig, ax = plt.subplots()\n",
    "ax.set_title(\"Разброс по полам правши\")\n",
    "ax.boxplot([\n",
    "    df_grb,\n",
    "    df_gra,\n",
    "    df_glb,\n",
    "    df_gla,\n",
    "\n",
    "    df_brb,\n",
    "    df_bra,\n",
    "    df_blb,\n",
    "    df_bla,\n",
    "],\n",
    "    labels=[\"grb\", \"gra\", \"glb\", \"gla\", \"brb\", \"bra\", \"blb\", \"bla\"]\n",
    ")\n",
    "plt.show()"
   ]
  },
  {
   "cell_type": "code",
   "execution_count": null,
   "id": "b3d3fbe9-1f34-49aa-9bd4-c71bc3cbe274",
   "metadata": {},
   "outputs": [],
   "source": []
  }
 ],
 "metadata": {
  "kernelspec": {
   "display_name": "Python 3 (ipykernel)",
   "language": "python",
   "name": "python3"
  },
  "language_info": {
   "codemirror_mode": {
    "name": "ipython",
    "version": 3
   },
   "file_extension": ".py",
   "mimetype": "text/x-python",
   "name": "python",
   "nbconvert_exporter": "python",
   "pygments_lexer": "ipython3",
   "version": "3.9.6"
  }
 },
 "nbformat": 4,
 "nbformat_minor": 5
}
